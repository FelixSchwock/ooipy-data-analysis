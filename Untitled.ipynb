{
 "cells": [
  {
   "cell_type": "code",
   "execution_count": 5,
   "id": "b59330cf",
   "metadata": {},
   "outputs": [],
   "source": [
    "import ooipy\n",
    "import datetime\n",
    "from matplotlib import pyplot as plt"
   ]
  },
  {
   "cell_type": "code",
   "execution_count": 3,
   "id": "3b7200d5",
   "metadata": {},
   "outputs": [],
   "source": [
    "# set up you username and token for accessing data from the OOI ververs\n",
    "# this function has to be called only once, since a file with the loging information will be\n",
    "# generated and stored in the project folder\n",
    "USERNAME = 'OOIAPI-5GHTCQEI8P10OJ'\n",
    "TOKEN =  'TEMP-TOKEN-LS804Q99OQHR99'\n",
    "ooipy.request.authentification.set_authentification(USERNAME, TOKEN)"
   ]
  },
  {
   "cell_type": "code",
   "execution_count": 6,
   "id": "16ca9343",
   "metadata": {},
   "outputs": [
    {
     "name": "stdout",
     "output_type": "stream",
     "text": [
      "CTD data object:  <ooipy.ctd.basic.CtdData object at 0x7fdb3c279af0>\n",
      "number of data points:  10872\n",
      "first data point:  {'practical_salinity': 33.75423905606145, 'seawater_pressure': 153.74031116196912, 'corrected_dissolved_oxygen': 113.94956396866611, 'density_qc_executed': 29, 'driver_timestamp': 3690496800.536956, 'conductivity': 1450066, 'seawater_pressure_qc_results': 29, 'practical_salinity_qc_results': 29, 'temperature': 425763, 'density': 1026.845002282935, 'corrected_dissolved_oxygen_qc_executed': 29, 'corrected_dissolved_oxygen_qc_results': 29, 'seawater_temperature_qc_results': 29, 'pressure_temp': 19380, 'internal_timestamp': 0.0, 'seawater_conductivity_qc_results': 13, 'pk': {'node': 'SF01B', 'stream': 'ctdpf_sbe43_sample', 'subsite': 'CE04OSPS', 'deployment': 3, 'time': 3690496800.4713826, 'sensor': '2A-CTDPFA107', 'method': 'streamed'}, 'ext_volt0': 17344, 'seawater_temperature': 9.01622453592222, 'ingestion_timestamp': 3690496803.285, 'port_timestamp': 3690496800.4713826, 'seawater_pressure_qc_executed': 29, 'pressure': 670064, 'preferred_timestamp': 'port_timestamp', 'seawater_conductivity': 3.6039438008770595, 'practical_salinity_qc_executed': 29, 'depth': 152.44453559788766, 'seawater_temperature_qc_executed': 29, 'density_qc_results': 29, 'time': 3690496800.4713826, 'seawater_conductivity_qc_executed': 29}\n"
     ]
    }
   ],
   "source": [
    "# request 1-hour of CTD data from the oregonoffshore location\n",
    "start = datetime.datetime(2016, 12, 12, 2, 0, 0)\n",
    "end = datetime.datetime(2016, 12, 12, 3, 0, 0)\n",
    "ctd_data = ooipy.request.ctd_request.get_ctd_data(start, end, 'oregon_offshore', limit=10000)\n",
    "print('CTD data object: ', ctd_data)\n",
    "print('number of data points: ', len(ctd_data.raw_data))\n",
    "print('first data point: ', ctd_data.raw_data[0])"
   ]
  },
  {
   "cell_type": "code",
   "execution_count": null,
   "id": "71fd0b90",
   "metadata": {},
   "outputs": [],
   "source": []
  }
 ],
 "metadata": {
  "kernelspec": {
   "display_name": "Python 3",
   "language": "python",
   "name": "python3"
  },
  "language_info": {
   "codemirror_mode": {
    "name": "ipython",
    "version": 3
   },
   "file_extension": ".py",
   "mimetype": "text/x-python",
   "name": "python",
   "nbconvert_exporter": "python",
   "pygments_lexer": "ipython3",
   "version": "3.9.4"
  }
 },
 "nbformat": 4,
 "nbformat_minor": 5
}
